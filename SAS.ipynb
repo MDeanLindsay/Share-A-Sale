{
 "cells": [
  {
   "cell_type": "code",
   "execution_count": 1,
   "metadata": {},
   "outputs": [],
   "source": [
    "from urllib import parse, request\n",
    "import hashlib\n",
    "from datetime import date, timedelta\n",
    "from time import strftime, gmtime\n",
    "import pandas as pd\n",
    "from pandas import DataFrame\n",
    "from io import StringIO"
   ]
  },
  {
   "cell_type": "code",
   "execution_count": 33,
   "metadata": {},
   "outputs": [],
   "source": [
    "my_merchant_id = 'xxx'\n",
    "api_token = 'xxx'\n",
    "api_secret_key = 'xxx'\n",
    "my_timestamp = strftime(\"%a, %d %b %Y %H:%M:%S +0000\", gmtime())\n",
    "api_version = 3.0\n",
    "action_verb = 'transactiondetail'\n",
    "\n",
    "date_start = date.today() - timedelta(days = 20)\n",
    "date_end = date.today() - timedelta(days = 1)\n",
    "export_type = 'pipe'\n",
    "sortcol = 'transid'\n",
    "sortdir = 'desc'"
   ]
  },
  {
   "cell_type": "code",
   "execution_count": 34,
   "metadata": {},
   "outputs": [],
   "source": [
    "# remove dateStart and add sortCol and sortDir to get lifetime. # 'dateStart' : date_start,\n",
    "data = parse.urlencode({'merchantId': my_merchant_id, 'token': api_token,\n",
    "\t\t\t\t\t\t'version': api_version, 'action': action_verb,\n",
    "                    \t'sortCol' : sortcol, 'sortDir' : sortdir, \n",
    "\t\t\t\t\t   \t'dateStart' : date_start, 'dateEnd' : date_end, 'format': export_type})\n",
    "\n",
    "# authentication\n",
    "sig = api_token + ':' + my_timestamp + ':' + action_verb + ':' + api_secret_key\n",
    "sig_hash = hashlib.sha256(sig.encode('utf-8')).hexdigest()\n",
    "my_headers = {'x-ShareASale-Date': my_timestamp,\n",
    "\t\t\t\t'x-ShareASale-Authentication': sig_hash}"
   ]
  },
  {
   "cell_type": "code",
   "execution_count": 35,
   "metadata": {},
   "outputs": [],
   "source": [
    "call = request.Request('https://shareasale.com/w.cfm?%s' %\n",
    "\t\t\t\t\t\tdata, headers=my_headers)\n",
    "try:\n",
    "\tresponse = request.urlopen(call).read()\n",
    "except Exception as inst:\n",
    "\tprint(inst)"
   ]
  },
  {
   "cell_type": "code",
   "execution_count": 36,
   "metadata": {},
   "outputs": [
    {
     "data": {
      "text/plain": [
       "(869, 40)"
      ]
     },
     "execution_count": 36,
     "metadata": {},
     "output_type": "execute_result"
    }
   ],
   "source": [
    "# decode output for df\n",
    "output = response.decode(\"utf-8\")\n",
    "\n",
    "# push output into df\n",
    "df = pd.read_csv(StringIO(output), sep='|', engine= 'python', \n",
    "usecols = ['transID','userID','transdate','transamount','commission','ssamount','comment','voided','locked',\n",
    "        'pending','lastip','lastreferer','bannernumber','bannerpage','dateoftrans','dateofclick','timeofclick',\n",
    "        'dateofreversal','returndays','toolID','storeID','lockDate','transactionType','CommissionType','skulist',\n",
    "        'priceList','quantityList','orderNumber','parentTrans','bannerName','bannerType','couponCode','referenceTrans',\n",
    "        'newCustomerFlag','userAgent','originalCurrency','originalCurrencyAmount','isMobile','usedACoupon','merchantDefinedType'])\n",
    "\n",
    "# check counts/date range.         \n",
    "df.shape\n",
    "# min(df['transdate'])"
   ]
  },
  {
   "cell_type": "code",
   "execution_count": 37,
   "metadata": {},
   "outputs": [],
   "source": [
    "from pandasql import sqldf\n",
    "import pyodbc\n",
    "\n",
    "# For PandaSQL queries. Easier to share/explain steps.\n",
    "pysqldf = lambda q: sqldf(q, globals())\n",
    "\n",
    "# For ODBC driver.\n",
    "drvr = '{ODBC Driver 17 for SQL Server}'\n",
    "srvr = 'PNASQL01'\n",
    "db = 'KP'\n",
    "usr ='XXXXXXXX'\n",
    "pw = 'XXXXXXXX'"
   ]
  },
  {
   "cell_type": "code",
   "execution_count": 38,
   "metadata": {},
   "outputs": [
    {
     "data": {
      "text/plain": [
       "62"
      ]
     },
     "execution_count": 38,
     "metadata": {},
     "output_type": "execute_result"
    }
   ],
   "source": [
    "# Orders With A Falsely Assigned New Customer Commission \n",
    "\n",
    "# df of \"New Customers\" according to Share-A-Sale.\n",
    "newCust = pysqldf(\n",
    "\"SELECT ORDERNUMBER \"\n",
    "\"FROM df \"\n",
    "\"WHERE NEWCUSTOMERFLAG = 1 \"    # Custom commission rate flag.\n",
    "\"AND VOIDED IS NULL \"           # Not yet voided.\n",
    "\"AND LOCKED IS NULL \"           # Safety parameter if this was/is run around the 20th.\n",
    "\"AND STOREID IN ('1','2')\"      # Keeps stores to WC/KP. CT has it's own ipynb.\n",
    ")\n",
    "\n",
    "# handle float64 issue\n",
    "newCust['orderNumber']  = newCust['orderNumber'].astype(int)\n",
    "\n",
    "# Init ODBC connection.\n",
    "connection = pyodbc.connect(DRIVER=drvr, SERVER=srvr, DATABASE=db, UID=usr, PWD=pw, Trusted_Connection='YES')\n",
    "\n",
    "# Validate new customers against response server.\n",
    "sql = (\n",
    "    \"SELECT A.ORDER_NO, A.WEB_ORDER_ID, A.ORDER_DATE, B.FIRST_PURCH \"               # Extraneous columns to manually verify.\n",
    "    \"FROM KP.RESPONSE.SYSOENT A \"                                                   # Order table.\n",
    "    \"INNER JOIN KP.RESPONSE.SYSCUST B \"                                             # Customer table.\n",
    "\t\"ON A.CUSTOMER_ID = B.CUSTOMER_ID \"\n",
    "    \"WHERE CAST(A.ORDER_DATE AS DATE) > CAST(B.FIRST_PURCH AS DATE) \"               # Compare order date to accounts first purchase.\n",
    "    \"AND WEB_ORDER_ID IN {}\".format(tuple(str(x) for x in newCust['orderNumber']))  # Needed to dynamically pass df column as a string. \n",
    ")\n",
    "\n",
    "# ODBC call.\n",
    "cursor = connection.cursor()\n",
    "response_newCust = pd.read_sql(sql, connection)\n",
    "\n",
    "# List of order numbers to change commission rate.\n",
    "commissionList = pysqldf(\n",
    "\"SELECT A.WEB_ORDER_ID, B.transdate \"\n",
    "\"FROM response_newCust A \"\n",
    "\"INNER JOIN df B ON A.WEB_ORDER_ID = B.orderNumber\"\n",
    ")\n",
    "\n",
    "# total #\n",
    "len(commissionList)"
   ]
  },
  {
   "cell_type": "code",
   "execution_count": 39,
   "metadata": {},
   "outputs": [
    {
     "data": {
      "text/plain": [
       "20"
      ]
     },
     "execution_count": 39,
     "metadata": {},
     "output_type": "execute_result"
    }
   ],
   "source": [
    "# Orders Containing Inelligible Items To Be Voided\n",
    "\n",
    "# make new df for all order numbers, not just new cust\n",
    "orderNos = pysqldf(\n",
    "\"SELECT ORDERNUMBER \"\n",
    "\"FROM df \"\n",
    "\"WHERE VOIDED IS NULL \"             # Where not already voided.\n",
    "\"AND LOCKED IS NULL \"               # Safety parameter if this was/is run around the 20th.\n",
    "\"AND STOREID IN ('1','2')\"          # Keeps stores to WC/KP. CT has it's own ipynb.\n",
    ")\n",
    "\n",
    "# handle float64 issue\n",
    "orderNos['orderNumber']  = orderNos['orderNumber'].astype(int)\n",
    "\n",
    "# connection already set up, fire away\n",
    "sql2 = (\n",
    "    \"SELECT A.ORDER_NO, A.WEB_ORDER_ID, A.ORDER_DATE \"\n",
    "    \"FROM KP.RESPONSE.SYSOENT A \"\n",
    "    \"WHERE ORDER_NO IN ( SELECT DISTINCT ORDER_NO \"                                             # Easier to subquery, just pull distinct order numbers from itemized level.\n",
    "    \"FROM KP.RESPONSE.LINEITEM A INNER JOIN KP.RESPONSE.INVENTOR B ON A.ITEM_ID = B.ITEM_ID \"\n",
    "    \"WHERE (B.PROD_CLASS_ID = 'PATTM' OR A.ITEM_ID = 'GIFT') \"                                  # Check order contents for IDP designs and gift cards.\n",
    "    \"AND A.ORDER_DATE > GETDATE()-30 )\"                                                         # Max window. Remove later.\n",
    "    \"AND A.WEB_ORDER_ID IN {}\".format(tuple(str(x) for x in orderNos['orderNumber']))           # Dynamically pass order numbers as string from api call.\n",
    ")\n",
    "\n",
    "\n",
    "cursor = connection.cursor()\n",
    "response_itemID = pd.read_sql(sql2, connection)\n",
    "\n",
    "# df of commissions to be canceled later.\n",
    "itemIDList = pysqldf(\n",
    "\"SELECT WEB_ORDER_ID, ORDER_DATE \"\n",
    "\"FROM response_itemID \"\n",
    ")\n",
    "\n",
    "# total #\n",
    "len(itemIDList)"
   ]
  },
  {
   "cell_type": "code",
   "execution_count": 40,
   "metadata": {},
   "outputs": [
    {
     "data": {
      "text/plain": [
       "0"
      ]
     },
     "execution_count": 40,
     "metadata": {},
     "output_type": "execute_result"
    }
   ],
   "source": [
    "# Canceled Orders To Be Voided\n",
    "\n",
    "# OrderNo df already exists.\n",
    "\n",
    "# ODBC Connection already set up.\n",
    "\n",
    "# Pull canceled orders.\n",
    "sql3 = (\n",
    "    \"SELECT A.ORDER_NO, A.WEB_ORDER_ID, A.ORDER_DATE, A.ORDER_STATUS \"                      # Extraneous columns to manually verify.\n",
    "    \"FROM KP.RESPONSE.SYSOENT A \"                                                           # Order table.\n",
    "    \"WHERE A.ORDER_STATUS = 'X' \"                                                           # Canceled orders status.\n",
    "    \"AND A.WEB_ORDER_ID IN {}\".format(tuple(str(x) for x in orderNos['orderNumber']))       # Dynamically pass order numbers as string from api call.\n",
    ")\n",
    "\n",
    "# ODBC call.\n",
    "cursor = connection.cursor()\n",
    "response_canceled = pd.read_sql(sql3, connection)\n",
    "\n",
    "# df of commissions to be canceled later.\n",
    "canceledList = pysqldf(\n",
    "\"SELECT WEB_ORDER_ID, ORDER_DATE \"\n",
    "\"FROM response_canceled\"\n",
    ")\n",
    "\n",
    "# total #\n",
    "len(canceledList)"
   ]
  },
  {
   "cell_type": "code",
   "execution_count": 27,
   "metadata": {},
   "outputs": [],
   "source": [
    "# Definitions \n",
    "import time\n",
    "\n",
    "def voidAPI(ordernumber, date):\n",
    "    data = parse.urlencode({'merchantId': my_merchant_id, 'token': api_token, 'version': api_version, 'action': 'void', 'ordernumber': ordernumber, 'date': date, 'reason': 'Non-Fulfilled Requirements'})\n",
    "    sig = api_token + ':' + my_timestamp + ':' + 'void' + ':' + api_secret_key\n",
    "    sig_hash = hashlib.sha256(sig.encode('utf-8')).hexdigest()\n",
    "    my_headers = {'x-ShareASale-Date': my_timestamp, 'x-ShareASale-Authentication': sig_hash}\n",
    "    call = request.Request('https://shareasale.com/w.cfm?%s' % data, headers=my_headers)\n",
    "    response = request.urlopen(call)\n",
    "    return response\n",
    "\n",
    "\n",
    "def editAPI(ordernumber, date):\n",
    "    data = parse.urlencode({'merchantId': my_merchant_id, 'token': api_token, 'version': api_version, 'action': 'edit', 'ordernumber': ordernumber, 'date': date, 'newpercentage': '10.00', 'newcomment': 'Edit: Non-new customer. Commission rate reduced.'})\n",
    "    sig = api_token + ':' + my_timestamp + ':' + 'edit' + ':' + api_secret_key\n",
    "    sig_hash = hashlib.sha256(sig.encode('utf-8')).hexdigest()\n",
    "    my_headers = {'x-ShareASale-Date': my_timestamp, 'x-ShareASale-Authentication': sig_hash}\n",
    "    call = request.Request('https://shareasale.com/w.cfm?%s' % data, headers=my_headers)\n",
    "    response = request.urlopen(call)\n",
    "    return response"
   ]
  },
  {
   "cell_type": "code",
   "execution_count": 21,
   "metadata": {},
   "outputs": [],
   "source": [
    "# Void orders containing ineligible items. \n",
    "for index, row in itemIDList.iterrows():\n",
    "    voidAPI(row['WEB_ORDER_ID'], row['ORDER_DATE'])\n",
    "    time.sleep(5) # Throws errors if too many pass to quickly."
   ]
  },
  {
   "cell_type": "code",
   "execution_count": 32,
   "metadata": {},
   "outputs": [],
   "source": [
    "# Reduce commission rates from 30% to 10% with validated non-new customer.\n",
    "for index, row in commissionList.iterrows():\n",
    "    editAPI(row['WEB_ORDER_ID'], row['transdate'])\n",
    "    time.sleep(5) # Throws errors if too many pass to quickly."
   ]
  },
  {
   "cell_type": "code",
   "execution_count": null,
   "metadata": {},
   "outputs": [],
   "source": [
    "# Void commissions for canceled orders.\n",
    "for index, row in canceledList.iterrows():\n",
    "    voidAPI(row['WEB_ORDER_ID'], row['ORDER_DATE'])\n",
    "    time.sleep(5) # Throws errors if too many pass to quickly."
   ]
  }
 ],
 "metadata": {
  "interpreter": {
   "hash": "9921fefd7828648f2cf51b00113b611c0a22fa4a7fc663891ed97ec4218bfed7"
  },
  "kernelspec": {
   "display_name": "Python 3.9.6 64-bit",
   "language": "python",
   "name": "python3"
  },
  "language_info": {
   "codemirror_mode": {
    "name": "ipython",
    "version": 3
   },
   "file_extension": ".py",
   "mimetype": "text/x-python",
   "name": "python",
   "nbconvert_exporter": "python",
   "pygments_lexer": "ipython3",
   "version": "3.9.6"
  },
  "orig_nbformat": 4
 },
 "nbformat": 4,
 "nbformat_minor": 2
}
