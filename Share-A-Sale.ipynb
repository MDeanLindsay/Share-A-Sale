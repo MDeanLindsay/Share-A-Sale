{
 "cells": [
  {
   "cell_type": "code",
   "execution_count": 1,
   "metadata": {},
   "outputs": [],
   "source": [
    "import pandas as pd\n",
    "import hashlib\n",
    "from urllib import parse, request\n",
    "from datetime import date, timedelta\n",
    "from time import strftime, gmtime\n",
    "import pandas as pd\n",
    "from pandas import DataFrame\n",
    "from io import StringIO\n",
    "\n",
    "from pandasql import sqldf\n",
    "import pyodbc\n",
    "import time"
   ]
  },
  {
   "cell_type": "code",
   "execution_count": 12,
   "metadata": {},
   "outputs": [],
   "source": [
    "my_merchant_id = 'XXXXX'\n",
    "api_token = 'XXXXXXXXXXXXXXXXXXX'\n",
    "api_secret_key = 'XXXXXXXXXXXXXXXXXXXXXXXXXXX'\n",
    "my_timestamp = strftime(\"%a, %d %b %Y %H:%M:%S +0000\", gmtime())\n",
    "api_version = 3.0\n",
    "action_verb = 'transactiondetail'\n",
    "\n",
    "date_start = date.today() - timedelta(days = 64)\n",
    "date_end = date.today() - timedelta(days = 1)\n",
    "export_type = 'pipe'\n",
    "sortcol = 'transid'\n",
    "sortdir = 'desc'"
   ]
  },
  {
   "cell_type": "code",
   "execution_count": 13,
   "metadata": {},
   "outputs": [],
   "source": [
    "# params\n",
    "data = parse.urlencode({'merchantId': my_merchant_id, 'token': api_token, \n",
    "\t\t\t\t\t\t'version': api_version, 'action': action_verb, \n",
    "\t\t\t\t\t\t'sortCol' : sortcol, 'sortDir' : sortdir, \n",
    "\t\t\t\t\t\t'dateStart' : date_start, 'dateEnd' : date_end, \n",
    "\t\t\t\t\t\t'format': export_type})\n",
    "\n",
    "# authentication\n",
    "sig = api_token + ':' + my_timestamp + ':' + action_verb + ':' + api_secret_key\n",
    "sig_hash = hashlib.sha256(sig.encode('utf-8')).hexdigest()\n",
    "my_headers = {'x-ShareASale-Date': my_timestamp,\n",
    "\t\t\t\t'x-ShareASale-Authentication': sig_hash}"
   ]
  },
  {
   "cell_type": "code",
   "execution_count": 14,
   "metadata": {},
   "outputs": [],
   "source": [
    "call = request.Request('https://shareasale.com/w.cfm?%s' % data, headers=my_headers)\n",
    "\n",
    "try:\n",
    "\tresponse = request.urlopen(call).read()\n",
    "except Exception as inst:\n",
    "\tprint(inst)"
   ]
  },
  {
   "cell_type": "code",
   "execution_count": 15,
   "metadata": {},
   "outputs": [
    {
     "data": {
      "text/plain": [
       "(3256, 40)"
      ]
     },
     "execution_count": 15,
     "metadata": {},
     "output_type": "execute_result"
    }
   ],
   "source": [
    "# decode\n",
    "output = response.decode(\"utf-8\")\n",
    "\n",
    "# push into df\n",
    "df = pd.read_csv(StringIO(output), sep='|', engine= 'python', \n",
    "usecols = ['transID','userID','transdate','transamount','commission','ssamount','comment','voided','locked',\n",
    "        'pending','lastip','lastreferer','bannernumber','bannerpage','dateoftrans','dateofclick','timeofclick',\n",
    "        'dateofreversal','returndays','toolID','storeID','lockDate','transactionType','CommissionType','skulist',\n",
    "        'priceList','quantityList','orderNumber','parentTrans','bannerName','bannerType','couponCode','referenceTrans',\n",
    "        'newCustomerFlag','userAgent','originalCurrency','originalCurrencyAmount','isMobile','usedACoupon','merchantDefinedType'])\n",
    "\n",
    "# Transaction Volume Check        \n",
    "df.shape"
   ]
  },
  {
   "cell_type": "code",
   "execution_count": 17,
   "metadata": {},
   "outputs": [],
   "source": [
    "# PandaSQL queries. Easier to share/explain steps.\n",
    "pysqldf = lambda q: sqldf(q, globals())\n",
    "\n",
    "# For ODBC driver.\n",
    "drvr = '{ODBC Driver 17 for SQL Server}'\n",
    "srvr = 'XXXXXXXX'\n",
    "db = 'KP'\n",
    "usr ='XXXXXXX'\n",
    "pw = 'XXXXXXXXX'\n",
    "\n",
    "# Init ODBC connection.\n",
    "connection = pyodbc.connect(DRIVER=drvr, SERVER=srvr, DATABASE=db, UID=usr, PWD=pw, Trusted_Connection='YES')"
   ]
  },
  {
   "cell_type": "code",
   "execution_count": null,
   "metadata": {},
   "outputs": [],
   "source": [
    "# Create df for \"New\" Customers according to Share-A-Sale.\n",
    "# Looking commissions not yet voided, and not yet locked for payment.\n",
    "newCust = pysqldf(\n",
    "\"SELECT ORDERNUMBER \"\n",
    "\"FROM df \"\n",
    "\"WHERE NEWCUSTOMERFLAG = 1 \"    # New customer flag.\n",
    "\"AND VOIDED IS NULL \"           # Is either null or 1.\n",
    "\"AND LOCKED IS NULL \"           # Is either null or 1.\n",
    "\"AND STOREID IN ('1','2')\"      # WC/KP ID's.\n",
    ")\n",
    "\n",
    "# handle float64\n",
    "newCust['orderNumber']  = newCust['orderNumber'].astype(int)\n",
    "\n",
    "# Create df for all order numbers.\n",
    "orderNos = pysqldf(\n",
    "\"SELECT ORDERNUMBER \"\n",
    "\"FROM df \"\n",
    "\"WHERE VOIDED IS NULL \"             # Is either null or 1.\n",
    "\"AND LOCKED IS NULL \"               # Is either null or 1.\n",
    "\"AND STOREID IN ('1','2')\"          # WC/KP ID's.\n",
    ")\n",
    "\n",
    "# handle float64\n",
    "orderNos['orderNumber']  = orderNos['orderNumber'].astype(int)"
   ]
  },
  {
   "cell_type": "code",
   "execution_count": 18,
   "metadata": {},
   "outputs": [
    {
     "data": {
      "text/plain": [
       "75"
      ]
     },
     "execution_count": 18,
     "metadata": {},
     "output_type": "execute_result"
    }
   ],
   "source": [
    "### NEW CUSTOMER REVIEW ###\n",
    "\n",
    "# Validate Share-A-Sale's \"new\" customers against response server.\n",
    "# Find assocaited customer IDs with SAS order numbers, compare order date to their first transaction date.\n",
    "sql = (\n",
    "    \"SELECT A.ORDER_NO, A.WEB_ORDER_ID, A.ORDER_DATE, B.FIRST_PURCH \"               \n",
    "    \"FROM KP.RESPONSE.SYSOENT A \"                                                   # Order table.\n",
    "    \"INNER JOIN KP.RESPONSE.SYSCUST B \"                                             # Customer table.\n",
    "\t\"ON A.CUSTOMER_ID = B.CUSTOMER_ID \"\n",
    "    \"WHERE CAST(A.ORDER_DATE AS DATE) > CAST(B.FIRST_PURCH AS DATE) \"               # Where order date > Cust_ID's first purchase.\n",
    "    \"AND WEB_ORDER_ID IN {}\".format(tuple(str(x) for x in newCust['orderNumber']))  # Dynamicaly pass string of order numbers.\n",
    ")\n",
    "\n",
    "# ODBC call.\n",
    "cursor = connection.cursor()\n",
    "response_newCust = pd.read_sql(sql, connection)\n",
    "\n",
    "# List of orders to reduce commission rates.\n",
    "commissionList = pysqldf(\n",
    "\"SELECT A.WEB_ORDER_ID, A.ORDER_DATE \"\n",
    "\"FROM response_newCust \"\n",
    ")\n",
    "\n",
    "# Order Volume Check  \n",
    "len(commissionList)"
   ]
  },
  {
   "cell_type": "code",
   "execution_count": 1,
   "metadata": {},
   "outputs": [
    {
     "ename": "NameError",
     "evalue": "name 'orderNos' is not defined",
     "output_type": "error",
     "traceback": [
      "\u001b[1;31m---------------------------------------------------------------------------\u001b[0m",
      "\u001b[1;31mNameError\u001b[0m                                 Traceback (most recent call last)",
      "\u001b[1;32m~\\AppData\\Local\\Temp/ipykernel_7640/3418216591.py\u001b[0m in \u001b[0;36m<module>\u001b[1;34m\u001b[0m\n\u001b[0;32m     12\u001b[0m     \u001b[1;34m\"WHERE (B.PROD_CLASS_ID = 'PATTM' OR A.ITEM_ID = 'GIFT') \"\u001b[0m                                  \u001b[1;31m# Check order contents for IDP designs and gift cards.\u001b[0m\u001b[1;33m\u001b[0m\u001b[1;33m\u001b[0m\u001b[0m\n\u001b[0;32m     13\u001b[0m     \u001b[1;34m\"AND A.ORDER_DATE > GETDATE()-30 )\"\u001b[0m                                                         \u001b[1;31m# Max window. Remove later.\u001b[0m\u001b[1;33m\u001b[0m\u001b[1;33m\u001b[0m\u001b[0m\n\u001b[1;32m---> 14\u001b[1;33m     \u001b[1;34m\"AND A.WEB_ORDER_ID IN {}\"\u001b[0m\u001b[1;33m.\u001b[0m\u001b[0mformat\u001b[0m\u001b[1;33m(\u001b[0m\u001b[0mtuple\u001b[0m\u001b[1;33m(\u001b[0m\u001b[0mstr\u001b[0m\u001b[1;33m(\u001b[0m\u001b[0mx\u001b[0m\u001b[1;33m)\u001b[0m \u001b[1;32mfor\u001b[0m \u001b[0mx\u001b[0m \u001b[1;32min\u001b[0m \u001b[0morderNos\u001b[0m\u001b[1;33m[\u001b[0m\u001b[1;34m'orderNumber'\u001b[0m\u001b[1;33m]\u001b[0m\u001b[1;33m)\u001b[0m\u001b[1;33m)\u001b[0m           \u001b[1;31m# Dynamically pass order numbers as string from api call.\u001b[0m\u001b[1;33m\u001b[0m\u001b[1;33m\u001b[0m\u001b[0m\n\u001b[0m\u001b[0;32m     15\u001b[0m )\n\u001b[0;32m     16\u001b[0m \u001b[1;33m\u001b[0m\u001b[0m\n",
      "\u001b[1;31mNameError\u001b[0m: name 'orderNos' is not defined"
     ]
    }
   ],
   "source": [
    "### ORDER CONTENTS REVIEW ###\n",
    "\n",
    "# Commissions on orders that contain certain products are to be voided, per contract.\n",
    "# Looking items in the product class 'PATTM' or if they contain a giftcard 'GIFT'.\n",
    "sql2 = (\n",
    "    \"SELECT A.ORDER_NO, A.WEB_ORDER_ID, A.ORDER_DATE \"\n",
    "    \"FROM KP.RESPONSE.SYSOENT A \"                                                       # Order level table.              \n",
    "    \"WHERE ORDER_NO IN ( \"\n",
    "    \"SELECT DISTINCT ORDER_NO\"                                                          # Subqeury for order numbers.                                  \n",
    "    \"FROM KP.RESPONSE.LINEITEM A \"                                                      # Line level order table.\n",
    "    \"INNER JOIN KP.RESPONSE.INVENTOR B \"                                                # Inventory details table.\n",
    "    \"ON A.ITEM_ID = B.ITEM_ID \"\n",
    "    \"WHERE (B.PROD_CLASS_ID = 'PATTM' OR A.ITEM_ID = 'GIFT') \"                          # Looking for PATTM or GIFT.\n",
    "    \"AND A.ORDER_DATE > GETDATE() - 64 )\"                                               # Max lock window. \n",
    "    \"AND A.WEB_ORDER_ID IN {}\".format(tuple(str(x) for x in orderNos['orderNumber']))   # Dynamicaly pass string of SAS order numbers.\n",
    ")\n",
    "\n",
    "cursor = connection.cursor()\n",
    "response_itemID = pd.read_sql(sql2, connection)\n",
    "\n",
    "# List of orders to void.\n",
    "itemIDList = pysqldf(\n",
    "\"SELECT WEB_ORDER_ID, ORDER_DATE \"\n",
    "\"FROM response_itemID \"\n",
    ")\n",
    "\n",
    "# Order Volume Check  \n",
    "len(itemIDList)"
   ]
  },
  {
   "cell_type": "code",
   "execution_count": 20,
   "metadata": {},
   "outputs": [
    {
     "data": {
      "text/plain": [
       "0"
      ]
     },
     "execution_count": 20,
     "metadata": {},
     "output_type": "execute_result"
    }
   ],
   "source": [
    "### ORDER STATUS REVIEW ###\n",
    "\n",
    "# Looking for orders that have been canceled internally, but still readied for payout with a 'NULL' void SAS status.\n",
    "sql3 = (\n",
    "    \"SELECT A.ORDER_NO, A.WEB_ORDER_ID, A.ORDER_DATE, A.ORDER_STATUS \"                      \n",
    "    \"FROM KP.RESPONSE.SYSOENT A \"                                                           # Order table.\n",
    "    \"WHERE A.ORDER_STATUS = 'X' \"                                                           # Canceled order status.\n",
    "    \"AND A.WEB_ORDER_ID IN {}\".format(tuple(str(x) for x in orderNos['orderNumber']))       # Dynamicaly pass string of SAS order numbers.\n",
    ")\n",
    "\n",
    "# ODBC call.\n",
    "cursor = connection.cursor()\n",
    "response_canceled = pd.read_sql(sql3, connection)\n",
    "\n",
    "# List of orders to void.\n",
    "canceledList = pysqldf(\n",
    "\"SELECT WEB_ORDER_ID, ORDER_DATE \"\n",
    "\"FROM response_canceled\"\n",
    ")\n",
    "\n",
    "# Order Volume Check \n",
    "len(canceledList)"
   ]
  },
  {
   "cell_type": "code",
   "execution_count": 27,
   "metadata": {},
   "outputs": [],
   "source": [
    "def voidAPI(ordernumber, date):\n",
    "    data = parse.urlencode({'merchantId': my_merchant_id, 'token': api_token, 'version': api_version, 'action': 'void', 'ordernumber': ordernumber, 'date': date, 'reason': 'Non-Fulfilled Requirements'})\n",
    "    sig = api_token + ':' + my_timestamp + ':' + 'void' + ':' + api_secret_key\n",
    "    sig_hash = hashlib.sha256(sig.encode('utf-8')).hexdigest()\n",
    "    my_headers = {'x-ShareASale-Date': my_timestamp, 'x-ShareASale-Authentication': sig_hash}\n",
    "    call = request.Request('https://shareasale.com/w.cfm?%s' % data, headers=my_headers)\n",
    "    response = request.urlopen(call)\n",
    "    return response\n",
    "\n",
    "\n",
    "def editAPI(ordernumber, date):\n",
    "    data = parse.urlencode({'merchantId': my_merchant_id, 'token': api_token, 'version': api_version, 'action': 'edit', 'ordernumber': ordernumber, 'date': date, 'newpercentage': '10.00', 'newcomment': 'Edit: Non-new customer. Commission rate reduced.'})\n",
    "    sig = api_token + ':' + my_timestamp + ':' + 'edit' + ':' + api_secret_key\n",
    "    sig_hash = hashlib.sha256(sig.encode('utf-8')).hexdigest()\n",
    "    my_headers = {'x-ShareASale-Date': my_timestamp, 'x-ShareASale-Authentication': sig_hash}\n",
    "    call = request.Request('https://shareasale.com/w.cfm?%s' % data, headers=my_headers)\n",
    "    response = request.urlopen(call)\n",
    "    return response"
   ]
  },
  {
   "cell_type": "code",
   "execution_count": 21,
   "metadata": {},
   "outputs": [],
   "source": [
    "# Void orders containing ineligible items. \n",
    "for index, row in itemIDList.iterrows():\n",
    "    voidAPI(row['WEB_ORDER_ID'], row['ORDER_DATE'])\n",
    "    time.sleep(5) # Throws errors if too many pass to quickly."
   ]
  },
  {
   "cell_type": "code",
   "execution_count": 32,
   "metadata": {},
   "outputs": [],
   "source": [
    "# Reduce commission rates from 30% to 10% with validated non-new customer.\n",
    "for index, row in commissionList.iterrows():\n",
    "    editAPI(row['WEB_ORDER_ID'], row['ORDER_DATE'])\n",
    "    time.sleep(5) # Throws errors if too many pass to quickly."
   ]
  },
  {
   "cell_type": "code",
   "execution_count": null,
   "metadata": {},
   "outputs": [],
   "source": [
    "# Void commissions for canceled orders.\n",
    "for index, row in canceledList.iterrows():\n",
    "    voidAPI(row['WEB_ORDER_ID'], row['ORDER_DATE'])\n",
    "    time.sleep(5) # Throws errors if too many pass to quickly."
   ]
  }
 ],
 "metadata": {
  "interpreter": {
   "hash": "9921fefd7828648f2cf51b00113b611c0a22fa4a7fc663891ed97ec4218bfed7"
  },
  "kernelspec": {
   "display_name": "Python 3.9.6 64-bit",
   "language": "python",
   "name": "python3"
  },
  "language_info": {
   "codemirror_mode": {
    "name": "ipython",
    "version": 3
   },
   "file_extension": ".py",
   "mimetype": "text/x-python",
   "name": "python",
   "nbconvert_exporter": "python",
   "pygments_lexer": "ipython3",
   "version": "3.9.6"
  },
  "orig_nbformat": 4
 },
 "nbformat": 4,
 "nbformat_minor": 2
}
